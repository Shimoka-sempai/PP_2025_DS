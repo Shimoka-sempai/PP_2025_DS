{
  "nbformat": 4,
  "nbformat_minor": 0,
  "metadata": {
    "colab": {
      "provenance": [],
      "gpuType": "T4"
    },
    "kernelspec": {
      "name": "python3",
      "display_name": "Python 3"
    },
    "language_info": {
      "name": "python"
    },
    "accelerator": "GPU"
  },
  "cells": [
    {
      "cell_type": "code",
      "source": [
        "import unittest"
      ],
      "metadata": {
        "id": "gWmhrAfTYrq7"
      },
      "execution_count": 57,
      "outputs": []
    },
    {
      "cell_type": "markdown",
      "source": [
        "#Задача 1\n",
        "Написать функцию на вход которой подается строка, состоящая из латинских букв.\n",
        "Функция должна вернуть количество гласных букв (a, e, i, o, u) в этой строке. Написать тесты для кода"
      ],
      "metadata": {
        "id": "M-DGa20PaHnu"
      }
    },
    {
      "cell_type": "code",
      "source": [
        "def count_vowels(st):\n",
        "    vowels = {'a', 'e', 'i', 'o', 'u'}\n",
        "    return sum(1 for char in st.lower() if char in vowels)\n",
        "\n",
        "class TestCountVowels(unittest.TestCase):\n",
        "    def test_empty_string(self):\n",
        "        self.assertEqual(count_vowels(\"\"), 0)\n",
        "\n",
        "    def test_no_vowels(self):\n",
        "        self.assertEqual(count_vowels(\"vnbgh\"), 0)\n",
        "\n",
        "    def test_no_vowels_mixed_case(self):\n",
        "        self.assertEqual(count_vowels(\"vNbGh\"), 0)\n",
        "\n",
        "    def test_with_vowels(self):\n",
        "        self.assertEqual(count_vowels(\"idgaf\"), 2)\n",
        "\n",
        "    def test_with_vowels_mixed_case(self):\n",
        "        self.assertEqual(count_vowels(\"IdgaF\"), 2)\n",
        "\n",
        "    def test_all_vowels_mixed_case(self):\n",
        "        self.assertEqual(count_vowels(\"AAeeIIou\"), 8)\n",
        "\n",
        "    def test_numbers_and_symbols(self):\n",
        "        self.assertEqual(count_vowels(\"24816!?/)\"), 0)\n",
        "\n",
        "\n",
        "unittest.TextTestRunner().run(unittest.defaultTestLoader.loadTestsFromTestCase(TestCountVowels))"
      ],
      "metadata": {
        "id": "XvX8X_JJ6PCb",
        "colab": {
          "base_uri": "https://localhost:8080/"
        },
        "outputId": "6920ef48-5211-4b6e-b94f-129929e2d273"
      },
      "execution_count": 56,
      "outputs": [
        {
          "output_type": "stream",
          "name": "stderr",
          "text": [
            ".......\n",
            "----------------------------------------------------------------------\n",
            "Ran 7 tests in 0.005s\n",
            "\n",
            "OK\n"
          ]
        },
        {
          "output_type": "execute_result",
          "data": {
            "text/plain": [
              "<unittest.runner.TextTestResult run=7 errors=0 failures=0>"
            ]
          },
          "metadata": {},
          "execution_count": 56
        }
      ]
    },
    {
      "cell_type": "markdown",
      "source": [
        "# Задача 2\n",
        "Написать функцию на вход, которой подается строка. Функция должна вернуть true, если\n",
        "каждый символ в строке встречается только 1 раз, иначе должна вернуть false. Написать тесты для кода"
      ],
      "metadata": {
        "id": "t2ClV_Y0bbr6"
      }
    },
    {
      "cell_type": "code",
      "source": [
        "def is_unique(st):\n",
        "    '''По формулировке не понятно, считается ли пустая строка уникальной, поэтому примем за данность, что считается.\n",
        "       Также неочевидно надо ли учитывать кейс симвлов и будут ли условные V и v разными символами. В моем решении они считаются разными.'''\n",
        "    return len(st) == len(set([char for char in st.replace(\" \", \"\")]))\n",
        "\n",
        "class TestIsUnique(unittest.TestCase):\n",
        "    def test_empty_string(self):\n",
        "        self.assertTrue(is_unique(\"\"))\n",
        "\n",
        "    def test_unique_chars(self):\n",
        "        self.assertTrue(is_unique(\"idgaf\"))\n",
        "\n",
        "    def test_unique_chars_mixed_case(self):\n",
        "        self.assertTrue(is_unique(\"iDgAf\"))\n",
        "\n",
        "    def test_mixed_case(self):\n",
        "        self.assertTrue(is_unique(\"MEme\"))\n",
        "\n",
        "    def test_repeated_chars(self):\n",
        "        self.assertFalse(is_unique(\"Based meme\"))\n",
        "\n",
        "    def test_numbers(self):\n",
        "        self.assertTrue(is_unique(\"15678\"))\n",
        "\n",
        "\n",
        "unittest.TextTestRunner().run(unittest.defaultTestLoader.loadTestsFromTestCase(TestIsUnique))"
      ],
      "metadata": {
        "id": "FppbECao6VIz",
        "colab": {
          "base_uri": "https://localhost:8080/"
        },
        "outputId": "201281b0-63f1-40f0-9101-58c1edf21b7c"
      },
      "execution_count": 55,
      "outputs": [
        {
          "output_type": "stream",
          "name": "stderr",
          "text": [
            "......\n",
            "----------------------------------------------------------------------\n",
            "Ran 6 tests in 0.005s\n",
            "\n",
            "OK\n"
          ]
        },
        {
          "output_type": "execute_result",
          "data": {
            "text/plain": [
              "<unittest.runner.TextTestResult run=6 errors=0 failures=0>"
            ]
          },
          "metadata": {},
          "execution_count": 55
        }
      ]
    },
    {
      "cell_type": "markdown",
      "source": [
        "# Задача 3\n",
        "Написать функцию, которая принимает положительное число и возвращает количество\n",
        "бит равных 1 в этом числе. Написать тесты для кода"
      ],
      "metadata": {
        "id": "udRiIK1cdt6E"
      }
    },
    {
      "cell_type": "code",
      "source": [
        "def count_bits(n):\n",
        "    return bin(n).count('1')\n",
        "\n",
        "class TestCountBits(unittest.TestCase):\n",
        "    def test_zero(self):\n",
        "        self.assertEqual(count_bits(0), 0)\n",
        "\n",
        "    def test_one(self):\n",
        "        self.assertEqual(count_bits(1), 1)\n",
        "\n",
        "    def test_two(self):\n",
        "        self.assertEqual(count_bits(2), 1)\n",
        "\n",
        "    def test_three(self):\n",
        "        self.assertEqual(count_bits(3), 2)\n",
        "\n",
        "    def test_large_number(self):\n",
        "        self.assertEqual(count_bits(1929), 6)\n",
        "\n",
        "    def test_small_number(self):\n",
        "        self.assertEqual(count_bits(8), 1)\n",
        "\n",
        "\n",
        "unittest.TextTestRunner().run(unittest.defaultTestLoader.loadTestsFromTestCase(TestCountBits))"
      ],
      "metadata": {
        "id": "6tkfDJRz6dp_",
        "colab": {
          "base_uri": "https://localhost:8080/"
        },
        "outputId": "4c10dd3c-83f2-4f01-98c7-f336900420da"
      },
      "execution_count": 54,
      "outputs": [
        {
          "output_type": "stream",
          "name": "stderr",
          "text": [
            "......\n",
            "----------------------------------------------------------------------\n",
            "Ran 6 tests in 0.004s\n",
            "\n",
            "OK\n"
          ]
        },
        {
          "output_type": "execute_result",
          "data": {
            "text/plain": [
              "<unittest.runner.TextTestResult run=6 errors=0 failures=0>"
            ]
          },
          "metadata": {},
          "execution_count": 54
        }
      ]
    },
    {
      "cell_type": "markdown",
      "source": [
        "# Задача 4\n",
        "Написать функцию, которая принимает положительное число. Функция должна вернуть то,\n",
        "сколько раз необходимо перемножать цифры числа или результат перемножения, чтобы\n",
        "получилось число состоящее из одной цифры.\n",
        "Например, для входного числа:\n",
        "· 39 функция должна вернуть 3, так как 3*9=27 => 2*7=14 => 1*4=4\n",
        "· 4 функция должна вернуть 0, так как число уже состоит из одной цифры\n",
        "· 999 функция должна вернуть 4, так как 9*9*9=729 => 7*2*9=126 => 1*2*6=12 =>\n",
        "1*2=2. Написать тесты для кода"
      ],
      "metadata": {
        "id": "26dDUz-Ae17N"
      }
    },
    {
      "cell_type": "code",
      "source": [
        "def magic(n):\n",
        "    count = 0\n",
        "    while n >= 10:\n",
        "        digits = [int(x) for x in str(n)]  # Преобразуем число в список цифр\n",
        "        n = 1\n",
        "        for digit in digits:\n",
        "            n *= digit  # Перемножаем все цифры числа\n",
        "        count += 1\n",
        "    return count\n",
        "\n",
        "\n",
        "class TestMagic(unittest.TestCase):\n",
        "    def test_case_1(self):\n",
        "        self.assertEqual(magic(39), 3)\n",
        "\n",
        "    def test_case_2(self):\n",
        "        self.assertEqual(magic(4), 0)\n",
        "\n",
        "    def test_case_3(self):\n",
        "        self.assertEqual(magic(999), 4)\n",
        "\n",
        "    def test_case_4(self):\n",
        "        self.assertEqual(magic(25), 2)   # 25 - 10 - 0\n",
        "\n",
        "    def test_case_6(self):\n",
        "        self.assertEqual(magic(7), 0)\n",
        "\n",
        "    def test_case_7(self):\n",
        "        self.assertEqual(magic(451), 2)  # 451 - 20 - 0\n",
        "\n",
        "\n",
        "unittest.TextTestRunner().run(unittest.defaultTestLoader.loadTestsFromTestCase(TestMagic))"
      ],
      "metadata": {
        "id": "BH1A_Mgi6i4G",
        "colab": {
          "base_uri": "https://localhost:8080/"
        },
        "outputId": "42435ac3-b512-4a5b-a6dd-03809bd8efd8"
      },
      "execution_count": 53,
      "outputs": [
        {
          "output_type": "stream",
          "name": "stderr",
          "text": [
            "......\n",
            "----------------------------------------------------------------------\n",
            "Ran 6 tests in 0.005s\n",
            "\n",
            "OK\n"
          ]
        },
        {
          "output_type": "execute_result",
          "data": {
            "text/plain": [
              "<unittest.runner.TextTestResult run=6 errors=0 failures=0>"
            ]
          },
          "metadata": {},
          "execution_count": 53
        }
      ]
    },
    {
      "cell_type": "markdown",
      "source": [
        "# Задача 5\n",
        "Написать функцию, которая принимает два целочисленных вектора одинаковой длины и\n",
        "возвращает среднеквадратическое отклонение двух векторов. Написать тесты для кода"
      ],
      "metadata": {
        "id": "0nS-kIa8g8vd"
      }
    },
    {
      "cell_type": "code",
      "source": [
        "def mse(pred, true):\n",
        "    squared_errors = [(p - t) ** 2 for p, t in zip(pred, true)]\n",
        "    return sum(squared_errors) / len(pred)\n",
        "\n",
        "\n",
        "class TestMSE(unittest.TestCase):\n",
        "    def test_case_1(self):\n",
        "        pred = [1, 2, 3]\n",
        "        true = [1, 2, 3]\n",
        "        self.assertEqual(mse(pred, true), 0)\n",
        "\n",
        "    def test_case_2(self):\n",
        "        pred = [4, 5, 6]\n",
        "        true = [1, 2, 3]\n",
        "        self.assertEqual(mse(pred, true), ((4-1)**2 + (5-2)**2 + (6-3)**2) / 3)\n",
        "\n",
        "    def test_case_3(self):\n",
        "        pred = [2, 4, 6]\n",
        "        true = [1, 3, 5]\n",
        "        self.assertEqual(mse(pred, true), ((2-1)**2 + (4-3)**2 + (6-5)**2) / 3)\n",
        "\n",
        "    def test_case_4(self):\n",
        "        pred = [1]\n",
        "        true = [2]\n",
        "        self.assertEqual(mse(pred, true), 1)\n",
        "\n",
        "\n",
        "    def test_case_5(self):\n",
        "        pred = [10**6, 10**7, 10**8]\n",
        "        true = [10**6 + 1, 10**7 - 1, 10**8 + 2]\n",
        "        self.assertEqual(mse(pred, true), ((10**6 - (10**6 + 1))**2 + (10**7 - (10**7 - 1))**2 + (10**8 - (10**8 + 2))**2) / 3)\n",
        "\n",
        "\n",
        "unittest.TextTestRunner().run(unittest.defaultTestLoader.loadTestsFromTestCase(TestMSE))"
      ],
      "metadata": {
        "id": "8iphx4LM6xbx",
        "colab": {
          "base_uri": "https://localhost:8080/"
        },
        "outputId": "fcd9e935-a04c-487d-8fe8-4b1cef429cca"
      },
      "execution_count": 52,
      "outputs": [
        {
          "output_type": "stream",
          "name": "stderr",
          "text": [
            ".....\n",
            "----------------------------------------------------------------------\n",
            "Ran 5 tests in 0.004s\n",
            "\n",
            "OK\n"
          ]
        },
        {
          "output_type": "execute_result",
          "data": {
            "text/plain": [
              "<unittest.runner.TextTestResult run=5 errors=0 failures=0>"
            ]
          },
          "metadata": {},
          "execution_count": 52
        }
      ]
    },
    {
      "cell_type": "markdown",
      "source": [
        "# Задача 6\n",
        "Написать функцию, принимающая целое положительное число. Функция должна вернуть\n",
        "строку вида “(n1**p1)(n2**p2)…(nk**pk)” представляющая разложение числа на простые\n",
        "множители (если pi == 1, то выводить только ni).\n",
        "Например, для числа 86240 функция должна вернуть “(2**5)(5)(7**2)(11)”. Написать тесты для кода"
      ],
      "metadata": {
        "id": "vpIPKL439zkw"
      }
    },
    {
      "cell_type": "code",
      "source": [
        "def prime_factorization(n):\n",
        "    factors = []\n",
        "\n",
        "    count = 0\n",
        "    while n % 2 == 0:\n",
        "        count += 1\n",
        "        n //= 2\n",
        "    if count > 0:\n",
        "        factors.append(f\"(2{'**' + str(count) if count > 1 else ''})\")\n",
        "\n",
        "    factor = 3\n",
        "    while factor * factor <= n:\n",
        "        count = 0\n",
        "        while n % factor == 0:\n",
        "            count += 1\n",
        "            n //= factor\n",
        "        if count > 0:\n",
        "            factors.append(f\"({factor}{'**' + str(count) if count > 1 else ''})\")\n",
        "        factor += 2\n",
        "\n",
        "    if n > 2:\n",
        "        factors.append(f\"({n})\")\n",
        "\n",
        "    return ''.join(factors)\n",
        "\n",
        "\n",
        "class TestPrimeFactorization(unittest.TestCase):\n",
        "    def test_case_1(self):\n",
        "        self.assertEqual(prime_factorization(1), \"\")  # 1 не имеет простых множителей\n",
        "\n",
        "    def test_case_2(self):\n",
        "        self.assertEqual(prime_factorization(2), \"(2)\")\n",
        "\n",
        "    def test_case_3(self):\n",
        "        self.assertEqual(prime_factorization(3), \"(3)\")\n",
        "\n",
        "    def test_case_4(self):\n",
        "        self.assertEqual(prime_factorization(30), \"(2)(3)(5)\")\n",
        "\n",
        "    def test_case_5(self):\n",
        "        self.assertEqual(prime_factorization(100), \"(2**2)(5**2)\")\n",
        "\n",
        "    def test_case_6(self):\n",
        "        self.assertEqual(prime_factorization(225), \"(3**2)(5**2)\")\n",
        "\n",
        "    def test_case_7(self):\n",
        "        self.assertEqual(prime_factorization(97), \"(97)\")\n",
        "\n",
        "    def test_case_8(self):\n",
        "        self.assertEqual(prime_factorization(160984), \"(2**3)(20123)\")\n",
        "\n",
        "\n",
        "unittest.TextTestRunner().run(unittest.defaultTestLoader.loadTestsFromTestCase(TestPrimeFactorization))"
      ],
      "metadata": {
        "id": "pFebmcZk94Jw",
        "colab": {
          "base_uri": "https://localhost:8080/"
        },
        "outputId": "76cbcef7-cbbd-4f9f-bc6d-0588639725dc"
      },
      "execution_count": 51,
      "outputs": [
        {
          "output_type": "stream",
          "name": "stderr",
          "text": [
            "........\n",
            "----------------------------------------------------------------------\n",
            "Ran 8 tests in 0.007s\n",
            "\n",
            "OK\n"
          ]
        },
        {
          "output_type": "execute_result",
          "data": {
            "text/plain": [
              "<unittest.runner.TextTestResult run=8 errors=0 failures=0>"
            ]
          },
          "metadata": {},
          "execution_count": 51
        }
      ]
    },
    {
      "cell_type": "markdown",
      "source": [
        "# Задача 7\n",
        "Написать функцию, принимающая целое число n, задающее количество кубиков. Функция\n",
        "должна определить, можно ли из данного кол-ва кубиков построить пирамиду, то есть\n",
        "можно ли представить число n как 1^2+2^2+3^2+…+k^2. Если можно, то функция должна\n",
        "вернуть k, иначе строку “It is impossible”. Написать тесты для кода"
      ],
      "metadata": {
        "id": "ps2s0BudX7A2"
      }
    },
    {
      "cell_type": "code",
      "source": [
        "def pyramid(number):\n",
        "    sum_of_squares = 0\n",
        "    k = 0\n",
        "\n",
        "    while sum_of_squares < number:\n",
        "        k += 1\n",
        "        sum_of_squares += k * k\n",
        "\n",
        "    if sum_of_squares == number:\n",
        "        return k\n",
        "    else:\n",
        "        return \"It is impossible\"\n",
        "\n",
        "class TestPyramid(unittest.TestCase):\n",
        "    def test_possible_cases(self):\n",
        "        self.assertEqual(pyramid(1), 1)\n",
        "        self.assertEqual(pyramid(5), 2)\n",
        "        self.assertEqual(pyramid(55), 5)\n",
        "\n",
        "    def test_impossible_cases(self):\n",
        "        self.assertEqual(pyramid(3), \"It is impossible\")\n",
        "        self.assertEqual(pyramid(33), \"It is impossible\")\n",
        "        self.assertEqual(pyramid(125), \"It is impossible\")\n",
        "        self.assertEqual(pyramid(451), \"It is impossible\")\n",
        "\n",
        "\n",
        "unittest.TextTestRunner().run(unittest.defaultTestLoader.loadTestsFromTestCase(TestPyramid))\n"
      ],
      "metadata": {
        "id": "3YPjEXxhX_YT",
        "colab": {
          "base_uri": "https://localhost:8080/"
        },
        "outputId": "d986fd14-5493-4bee-d809-2f5125992bcc"
      },
      "execution_count": 59,
      "outputs": [
        {
          "output_type": "stream",
          "name": "stderr",
          "text": [
            "..\n",
            "----------------------------------------------------------------------\n",
            "Ran 2 tests in 0.002s\n",
            "\n",
            "OK\n"
          ]
        },
        {
          "output_type": "execute_result",
          "data": {
            "text/plain": [
              "<unittest.runner.TextTestResult run=2 errors=0 failures=0>"
            ]
          },
          "metadata": {},
          "execution_count": 59
        }
      ]
    },
    {
      "cell_type": "markdown",
      "source": [
        "# Задача 8\n",
        "Функция принимает на вход положительное число и определяет является ли оно сбалансированным, т.е. сумма цифр до средних равна сумме цифр после. Средними в случае нечетного числа цифр считать одну цифру, в случае четного - две средних. Написать тесты для кода"
      ],
      "metadata": {
        "id": "KeKgmIdAQMEJ"
      }
    },
    {
      "cell_type": "code",
      "source": [
        "def pyramid(number):\n",
        "    num_str = str(number)\n",
        "    length = len(num_str)\n",
        "\n",
        "    if length % 2 == 1:\n",
        "        middle = length // 2\n",
        "        left = num_str[:middle]\n",
        "        right = num_str[middle + 1:]\n",
        "    else:\n",
        "        middle = length // 2\n",
        "        left = num_str[:middle - 1]\n",
        "        right = num_str[middle + 1:]\n",
        "\n",
        "    left_sum = sum(int(digit) for digit in left)\n",
        "    right_sum = sum(int(digit) for digit in right)\n",
        "\n",
        "    if left_sum == right_sum:\n",
        "        return \"Сбалансированно\"\n",
        "    else:\n",
        "        return \"Несбалансированно\"\n",
        "\n",
        "class TestBalancedNumber(unittest.TestCase):\n",
        "    def test_balanced_cases(self):\n",
        "        self.assertEqual(pyramid(123321), \"Сбалансированно\")\n",
        "        self.assertEqual(pyramid(1234321), \"Сбалансированно\")\n",
        "\n",
        "    def test_not_balanced_cases(self):\n",
        "        self.assertEqual(pyramid(123456), \"Несбалансированно\")\n",
        "        self.assertEqual(pyramid(129923), \"Несбалансированно\")\n",
        "        self.assertEqual(pyramid(19287384), \"Несбалансированно\")\n",
        "\n",
        "    def test_single_digit(self):\n",
        "        self.assertEqual(pyramid(5), \"Сбалансированно\")\n",
        "\n",
        "    def test_large_number(self):\n",
        "        self.assertEqual(pyramid(3457891987543), \"Сбалансированно\")\n",
        "\n",
        "\n",
        "unittest.TextTestRunner().run(unittest.defaultTestLoader.loadTestsFromTestCase(TestBalancedNumber))"
      ],
      "metadata": {
        "id": "gMAAqtqlQrZt",
        "colab": {
          "base_uri": "https://localhost:8080/"
        },
        "outputId": "d33859ac-801c-43a9-c0c3-b1adc5d996f7"
      },
      "execution_count": 58,
      "outputs": [
        {
          "output_type": "stream",
          "name": "stderr",
          "text": [
            "....\n",
            "----------------------------------------------------------------------\n",
            "Ran 4 tests in 0.003s\n",
            "\n",
            "OK\n"
          ]
        },
        {
          "output_type": "execute_result",
          "data": {
            "text/plain": [
              "<unittest.runner.TextTestResult run=4 errors=0 failures=0>"
            ]
          },
          "metadata": {},
          "execution_count": 58
        }
      ]
    }
  ]
}